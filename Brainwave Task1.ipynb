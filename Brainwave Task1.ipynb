{
 "cells": [
  {
   "cell_type": "code",
   "execution_count": 1,
   "id": "a52fba63-0f37-41c1-84d0-0fa5c81da8e0",
   "metadata": {},
   "outputs": [
    {
     "name": "stdin",
     "output_type": "stream",
     "text": [
      "Enter URL to scan:  https://classroom.google.com/\n"
     ]
    },
    {
     "name": "stdout",
     "output_type": "stream",
     "text": [
      "URL seems safe: https://classroom.google.com/\n"
     ]
    }
   ],
   "source": [
    "import re\n",
    "import requests\n",
    "\n",
    "# Function to check for suspicious patterns in a URL\n",
    "def check_url_pattern(url):\n",
    "    # Patterns that are commonly found in phishing URLs\n",
    "    phishing_patterns = [\n",
    "        r\"http[s]?://.*@.*\",  # Embedded credentials\n",
    "        r\"http[s]?://.*[0-9]+\\.[0-9]+\\.[0-9]+\\.[0-9]+.*\",  # IP addresses\n",
    "        r\".*\\?.*=.*=.*\",  # Multiple query parameters\n",
    "        r\".*\\%[0-9a-fA-F]{2}.*\",  # URL encoding\n",
    "    ]\n",
    "    for pattern in phishing_patterns:\n",
    "        if re.search(pattern, url):\n",
    "            return True\n",
    "    return False\n",
    "\n",
    "# Function to check URL structure\n",
    "def check_url_structure(url):\n",
    "    suspicious_chars = [\"-\", \"_\", \".\", \"=\", \"&\"]\n",
    "    if len(url.split(\"/\")) > 6:  # Too many segments in URL\n",
    "        return True\n",
    "    if any(char * 3 in url for char in suspicious_chars):  # Repeated special characters\n",
    "        return True\n",
    "    return False\n",
    "\n",
    "# Function to query a blacklist (a simple static list for demonstration)\n",
    "def check_blacklist(url, blacklist):\n",
    "    domain = re.findall(r\"https?://([A-Za-z_0-9.-]+).*\", url)\n",
    "    domain = domain[0] if domain else url\n",
    "    return domain in blacklist\n",
    "\n",
    "# Function to query VirusTotal (requires an API key)\n",
    "def check_virustotal(url, api_key):\n",
    "    headers = {\"x-apikey\": api_key}\n",
    "    response = requests.get(f\"https://www.virustotal.com/api/v3/urls/{url}\", headers=headers)\n",
    "    if response.status_code == 200:\n",
    "        result = response.json()\n",
    "        malicious_count = result.get(\"data\", {}).get(\"attributes\", {}).get(\"last_analysis_stats\", {}).get(\"malicious\", 0)\n",
    "        return malicious_count > 0\n",
    "    return False\n",
    "\n",
    "# Main function\n",
    "def phishing_link_scanner(url, blacklist, api_key=None):\n",
    "    if check_url_pattern(url):\n",
    "        print(f\"ALERT: Suspicious URL pattern detected: {url}\")\n",
    "    elif check_url_structure(url):\n",
    "        print(f\"ALERT: Unusual URL structure detected: {url}\")\n",
    "    elif check_blacklist(url, blacklist):\n",
    "        print(f\"ALERT: URL found in blacklist: {url}\")\n",
    "    elif api_key and check_virustotal(url, api_key):\n",
    "        print(f\"ALERT: URL flagged as malicious by VirusTotal: {url}\")\n",
    "    else:\n",
    "        print(f\"URL seems safe: {url}\")\n",
    "\n",
    "# Example Usage\n",
    "if __name__ == \"__main__\":\n",
    "    # Example blacklist\n",
    "    blacklist = [\n",
    "        \"malicious.com\",\n",
    "        \"phishing-site.org\",\n",
    "        \"badlink.net\",\n",
    "    ]\n",
    "\n",
    "    # Input URL to test\n",
    "    test_url = input(\"Enter URL to scan: \")\n",
    "\n",
    "    # Replace 'your_api_key' with a real VirusTotal API key\n",
    "    api_key = \"your_api_key\"\n",
    "\n",
    "    phishing_link_scanner(test_url, blacklist, api_key)\n"
   ]
  },
  {
   "cell_type": "code",
   "execution_count": null,
   "id": "0ec845fd-7091-41d6-acf5-8879f5ddaa5d",
   "metadata": {},
   "outputs": [],
   "source": []
  }
 ],
 "metadata": {
  "kernelspec": {
   "display_name": "Python 3 (ipykernel)",
   "language": "python",
   "name": "python3"
  },
  "language_info": {
   "codemirror_mode": {
    "name": "ipython",
    "version": 3
   },
   "file_extension": ".py",
   "mimetype": "text/x-python",
   "name": "python",
   "nbconvert_exporter": "python",
   "pygments_lexer": "ipython3",
   "version": "3.12.7"
  }
 },
 "nbformat": 4,
 "nbformat_minor": 5
}
